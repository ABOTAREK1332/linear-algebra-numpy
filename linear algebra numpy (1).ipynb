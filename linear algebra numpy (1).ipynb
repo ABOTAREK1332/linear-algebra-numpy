{
 "cells": [
  {
   "cell_type": "markdown",
   "metadata": {},
   "source": [
    "## Write a Numpy program to compute the multiplication of two given matrixes"
   ]
  },
  {
   "cell_type": "code",
   "execution_count": 1,
   "metadata": {},
   "outputs": [],
   "source": [
    "import numpy as np"
   ]
  },
  {
   "cell_type": "code",
   "execution_count": 7,
   "metadata": {},
   "outputs": [
    {
     "name": "stdout",
     "output_type": "stream",
     "text": [
      "[[  2  15   3 340  15  32 162]\n",
      " [  6  20  16   6  35  25   9]]\n"
     ]
    }
   ],
   "source": [
    "a= np.array([[1,5,1,85,3,1,54],[3,4,2,3,5,5,3]])\n",
    "b= np.array([[2,3,3,4,5,32,3],[2,5,8,2,7,5,3]])\n",
    "c= a*b\n",
    "print(c)"
   ]
  },
  {
   "cell_type": "code",
   "execution_count": 8,
   "metadata": {},
   "outputs": [
    {
     "name": "stdout",
     "output_type": "stream",
     "text": [
      "[[  2  15   3 340  15  32 162]\n",
      " [  6  20  16   6  35  25   9]]\n"
     ]
    }
   ],
   "source": [
    "c= np.multiply(a,b)\n",
    "print(c)"
   ]
  },
  {
   "cell_type": "markdown",
   "metadata": {},
   "source": [
    "## Write a NumPy program to compute the determinant of a given square array"
   ]
  },
  {
   "cell_type": "code",
   "execution_count": 9,
   "metadata": {},
   "outputs": [
    {
     "name": "stdout",
     "output_type": "stream",
     "text": [
      "[[   1   25    1 7225    9    1 2916]\n",
      " [   9   16    4    9   25   25    9]]\n"
     ]
    }
   ],
   "source": [
    "a= np.array([[1,5,1,85,3,1,54],[3,4,2,3,5,5,3]])\n",
    "w= np.square(a)\n",
    "print(w)\n"
   ]
  },
  {
   "cell_type": "code",
   "execution_count": null,
   "metadata": {},
   "outputs": [],
   "source": []
  },
  {
   "cell_type": "markdown",
   "metadata": {},
   "source": [
    "## Write a NumPy program to compute the cross product of two given vectors"
   ]
  },
  {
   "cell_type": "code",
   "execution_count": 18,
   "metadata": {},
   "outputs": [
    {
     "name": "stdout",
     "output_type": "stream",
     "text": [
      "[[ 2 -1  0]\n",
      " [ 2 -1  0]]\n"
     ]
    }
   ],
   "source": [
    "e=[[1,2,3],[1,2,3]]\n",
    "r=[[1,2,4],[1,2,4]]\n",
    "s= np.cross(e,r)\n",
    "print(s)"
   ]
  },
  {
   "cell_type": "code",
   "execution_count": null,
   "metadata": {},
   "outputs": [],
   "source": []
  },
  {
   "cell_type": "markdown",
   "metadata": {},
   "source": [
    "## Write a NumPy program to compute the condition number of a given matrix\n",
    "the condition number of a function measures how much the output value of the function can change for a small change in the input argument. This is used to measure how sensitive a function is to changes or errors in the input, and how much error in the output results from an error in the input.\n",
    "\n",
    "*hint: look for something similar in the `linalg` module*"
   ]
  },
  {
   "cell_type": "code",
   "execution_count": 2,
   "metadata": {},
   "outputs": [
    {
     "name": "stdout",
     "output_type": "stream",
     "text": [
      "10.856660053952611\n"
     ]
    }
   ],
   "source": [
    "d= np.array([ [1,5,1,5],\n",
    "              [3,4,2,3],\n",
    "              [2,3,3,4],\n",
    "              [2,5,8,2],\n",
    "              ])\n",
    "j= np.linalg.cond(d)\n",
    "print(j)"
   ]
  },
  {
   "cell_type": "code",
   "execution_count": null,
   "metadata": {},
   "outputs": [],
   "source": []
  },
  {
   "cell_type": "markdown",
   "metadata": {},
   "source": [
    "## Write a NumPy program to compute the inverse of a given matrix"
   ]
  },
  {
   "cell_type": "code",
   "execution_count": 29,
   "metadata": {},
   "outputs": [
    {
     "name": "stdout",
     "output_type": "stream",
     "text": [
      "[[-0.30246914  0.4382716   0.10493827 -0.11111111]\n",
      " [ 0.24691358  0.17283951 -0.49382716  0.11111111]\n",
      " [-0.08641975 -0.16049383  0.17283951  0.11111111]\n",
      " [ 0.0308642  -0.22839506  0.4382716  -0.11111111]]\n"
     ]
    }
   ],
   "source": [
    "y= np.array([ [1,5,1,5],\n",
    "              [3,4,2,3],\n",
    "              [2,3,3,4],\n",
    "              [2,5,8,2],\n",
    "              ])\n",
    "z= np.linalg.inv(y)\n",
    "print(z)\n",
    "\n",
    "\n",
    "\n",
    "\n"
   ]
  },
  {
   "cell_type": "code",
   "execution_count": null,
   "metadata": {},
   "outputs": [],
   "source": []
  },
  {
   "cell_type": "code",
   "execution_count": null,
   "metadata": {},
   "outputs": [],
   "source": []
  }
 ],
 "metadata": {
  "kernelspec": {
   "display_name": "Python 3.9.12 ('base')",
   "language": "python",
   "name": "python3"
  },
  "language_info": {
   "codemirror_mode": {
    "name": "ipython",
    "version": 3
   },
   "file_extension": ".py",
   "mimetype": "text/x-python",
   "name": "python",
   "nbconvert_exporter": "python",
   "pygments_lexer": "ipython3",
   "version": "3.9.12"
  },
  "vscode": {
   "interpreter": {
    "hash": "631af202ec7c40e141c49d63cac6c8cb664469fed6e4d5ddc6436b49edc60500"
   }
  }
 },
 "nbformat": 4,
 "nbformat_minor": 2
}
